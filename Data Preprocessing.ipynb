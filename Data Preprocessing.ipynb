{
 "cells": [
  {
   "cell_type": "code",
   "execution_count": null,
   "id": "86f2b3ab",
   "metadata": {},
   "outputs": [],
   "source": [
    "# ML에서는 결손값(NaN, Null)이 허용되지 않음. \n",
    "# 따라서 이러한 결손값은  고정된 다른 값으로 변환하거나(피처의 평균값 등)해당 피처 드롭\n",
    "# Scikit learn의 ML 알고리즘은 문자열 값을 Input으로 허용하지 않음\n",
    "# 따라서 모든 문자열 값은 인코딩돼서 숫자형으로 변환해야함\n",
    "# 문자열 피처는 카테고리형 피처와 텍스트형 피처를 의미함\n",
    "# 대표적인 인코딩 방식으로는 레이블 인코딩과 원-핫 인코딩이 있음\n",
    "# 레이블 인코딩 : 카테고리 피처를 코드형 숫자 값으로 변환\n"
   ]
  }
 ],
 "metadata": {
  "kernelspec": {
   "display_name": "Python 3 (ipykernel)",
   "language": "python",
   "name": "python3"
  },
  "language_info": {
   "codemirror_mode": {
    "name": "ipython",
    "version": 3
   },
   "file_extension": ".py",
   "mimetype": "text/x-python",
   "name": "python",
   "nbconvert_exporter": "python",
   "pygments_lexer": "ipython3",
   "version": "3.9.12"
  }
 },
 "nbformat": 4,
 "nbformat_minor": 5
}
